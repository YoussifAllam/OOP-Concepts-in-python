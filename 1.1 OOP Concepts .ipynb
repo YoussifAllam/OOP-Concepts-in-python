{
 "cells": [
  {
   "cell_type": "markdown",
   "metadata": {},
   "source": [
    "# scope"
   ]
  },
  {
   "cell_type": "code",
   "execution_count": 1,
   "metadata": {},
   "outputs": [
    {
     "name": "stdout",
     "output_type": "stream",
     "text": [
      "After local assignment: test spam\n",
      "After nonlocal assignment: nonlocal spam\n",
      "After global assignment: nonlocal spam\n",
      "In global scope: global spam\n"
     ]
    }
   ],
   "source": [
    "def scope_test():\n",
    "    def do_local():\n",
    "        spam = \"local spam\"\n",
    "\n",
    "    def do_nonlocal():\n",
    "        nonlocal spam #*  is used to access variables from the nearest enclosing scope that is\n",
    "        #* not global. It is typically used in nested functions\n",
    "        spam = \"nonlocal spam\"\n",
    "\n",
    "    def do_global():\n",
    "        global spam\n",
    "        spam = \"global spam\"\n",
    "\n",
    "    spam = \"test spam\"\n",
    "    do_local()\n",
    "    print(\"After local assignment:\", spam)\n",
    "    do_nonlocal()\n",
    "    print(\"After nonlocal assignment:\", spam)\n",
    "    do_global()\n",
    "    print(\"After global assignment:\", spam)\n",
    "\n",
    "scope_test()\n",
    "print(\"In global scope:\", spam)"
   ]
  },
  {
   "cell_type": "markdown",
   "metadata": {},
   "source": [
    "# CLass\n"
   ]
  },
  {
   "cell_type": "code",
   "execution_count": 4,
   "metadata": {},
   "outputs": [
    {
     "name": "stdout",
     "output_type": "stream",
     "text": [
      "youssif\n"
     ]
    }
   ],
   "source": [
    "class Member :\n",
    "    def __init__(self) :\n",
    "        self.name = 'youssif'\n",
    "        \n",
    "mem1 = Member()\n",
    "print(mem1.name)"
   ]
  },
  {
   "cell_type": "code",
   "execution_count": 3,
   "metadata": {},
   "outputs": [
    {
     "name": "stdout",
     "output_type": "stream",
     "text": [
      "3.0 -4.5\n"
     ]
    }
   ],
   "source": [
    "class Complex:\n",
    "    def __init__(self, realpart, imagpart):\n",
    "        self.r = realpart\n",
    "        self.i = imagpart\n",
    "\n",
    "x = Complex(3.0, -4.5)\n",
    "print( x.r, x.i )"
   ]
  },
  {
   "cell_type": "markdown",
   "metadata": {},
   "source": [
    "# Class attributes"
   ]
  },
  {
   "cell_type": "code",
   "execution_count": 25,
   "metadata": {},
   "outputs": [
    {
     "name": "stdout",
     "output_type": "stream",
     "text": [
      "canine\n",
      "canine\n",
      "Fido\n",
      "Buddy\n"
     ]
    }
   ],
   "source": [
    "class Dog:\n",
    "\n",
    "    kind = 'canine'         # class variable shared by all instances\n",
    "\n",
    "    def __init__(self, name):\n",
    "        self.name = name    # instance variable unique to each instance\n",
    "\n",
    "d = Dog('Fido')\n",
    "e = Dog('Buddy')\n",
    "\n",
    "print(d.kind)                  # shared by all dogs\n",
    "print(e.kind )                # shared by all dogs\n",
    "print(d.name )              # unique to d\n",
    "print(e.name )      "
   ]
  },
  {
   "cell_type": "code",
   "execution_count": 28,
   "metadata": {},
   "outputs": [
    {
     "name": "stdout",
     "output_type": "stream",
     "text": [
      "6.0 + 4.1\n",
      "1\n"
     ]
    }
   ],
   "source": [
    "class MyClass:\n",
    "    \n",
    "    not_allowed_numbers = [1.0,2.0,3.0,4.0,5.0]\n",
    "    num_ofnumbers = 0\n",
    "    \n",
    "    def __init__(self, realpart, imagpart):\n",
    "        self.r = realpart\n",
    "        self.i = imagpart\n",
    "        \n",
    "        MyClass.num_ofnumbers +=1\n",
    "\n",
    "    def f(self):\n",
    "        if self.r not in MyClass.not_allowed_numbers and self.i not in MyClass.not_allowed_numbers:\n",
    "            x = str(self.r) +\" + \"+ str(self.i)\n",
    "            print(x)\n",
    "        else: raise ValueError('you are using not allowed numbers ')\n",
    "\n",
    "\n",
    "object1 = MyClass(6.0,4.1) \n",
    "object1.f()\n",
    "print(MyClass.num_ofnumbers)\n",
    "\n"
   ]
  },
  {
   "cell_type": "code",
   "execution_count": 29,
   "metadata": {},
   "outputs": [
    {
     "ename": "ValueError",
     "evalue": "you are using not allowed numbers ",
     "output_type": "error",
     "traceback": [
      "\u001b[1;31m---------------------------------------------------------------------------\u001b[0m",
      "\u001b[1;31mValueError\u001b[0m                                Traceback (most recent call last)",
      "Cell \u001b[1;32mIn[29], line 2\u001b[0m\n\u001b[0;32m      1\u001b[0m object2 \u001b[39m=\u001b[39m MyClass(\u001b[39m3.0\u001b[39m,\u001b[39m-\u001b[39m\u001b[39m4.0\u001b[39m) \n\u001b[1;32m----> 2\u001b[0m object2\u001b[39m.\u001b[39;49mf()\n",
      "Cell \u001b[1;32mIn[28], line 16\u001b[0m, in \u001b[0;36mMyClass.f\u001b[1;34m(self)\u001b[0m\n\u001b[0;32m     14\u001b[0m     x \u001b[39m=\u001b[39m \u001b[39mstr\u001b[39m(\u001b[39mself\u001b[39m\u001b[39m.\u001b[39mr) \u001b[39m+\u001b[39m\u001b[39m\"\u001b[39m\u001b[39m + \u001b[39m\u001b[39m\"\u001b[39m\u001b[39m+\u001b[39m \u001b[39mstr\u001b[39m(\u001b[39mself\u001b[39m\u001b[39m.\u001b[39mi)\n\u001b[0;32m     15\u001b[0m     \u001b[39mprint\u001b[39m(x)\n\u001b[1;32m---> 16\u001b[0m \u001b[39melse\u001b[39;00m: \u001b[39mraise\u001b[39;00m \u001b[39mValueError\u001b[39;00m(\u001b[39m'\u001b[39m\u001b[39myou are using not allowed numbers \u001b[39m\u001b[39m'\u001b[39m)\n",
      "\u001b[1;31mValueError\u001b[0m: you are using not allowed numbers "
     ]
    }
   ],
   "source": [
    "object2 = MyClass(3.0,-4.0) \n",
    "object2.f()"
   ]
  },
  {
   "cell_type": "code",
   "execution_count": 26,
   "metadata": {},
   "outputs": [
    {
     "name": "stdout",
     "output_type": "stream",
     "text": [
      "['roll over', 'play dead']\n"
     ]
    }
   ],
   "source": [
    "class Dog:\n",
    "\n",
    "    tricks = []             # mistaken use of a class variable\n",
    "\n",
    "    def __init__(self, name):\n",
    "        self.name = name\n",
    "\n",
    "    def add_trick(self, trick):\n",
    "        self.tricks.append(trick)\n",
    "\n",
    "d = Dog('Fido')\n",
    "e = Dog('Buddy')\n",
    "d.add_trick('roll over')\n",
    "e.add_trick('play dead')\n",
    "print(d.tricks)                # unexpectedly shared by all dogs"
   ]
  },
  {
   "cell_type": "code",
   "execution_count": 27,
   "metadata": {},
   "outputs": [
    {
     "name": "stdout",
     "output_type": "stream",
     "text": [
      "['roll over']\n",
      "['play dead']\n"
     ]
    }
   ],
   "source": [
    "class Dog:\n",
    "\n",
    "    def __init__(self, name):\n",
    "        self.name = name\n",
    "        self.tricks = []    # creates a new empty list for each dog\n",
    "\n",
    "    def add_trick(self, trick):\n",
    "        self.tricks.append(trick)\n",
    "\n",
    "d = Dog('Fido')\n",
    "e = Dog('Buddy')\n",
    "d.add_trick('roll over')\n",
    "e.add_trick('play dead')\n",
    "\n",
    "print(d.tricks)\n",
    "print(e.tricks)"
   ]
  },
  {
   "cell_type": "markdown",
   "metadata": {},
   "source": [
    "# Function defined outside the class"
   ]
  },
  {
   "cell_type": "code",
   "execution_count": 29,
   "metadata": {},
   "outputs": [
    {
     "name": "stdout",
     "output_type": "stream",
     "text": [
      "1\n",
      "hello world\n"
     ]
    }
   ],
   "source": [
    "\n",
    "def f1(self, x, y):\n",
    "    return min(x, y)\n",
    "\n",
    "class C:\n",
    "    f = f1\n",
    "\n",
    "    def g(self):\n",
    "        return 'hello world'\n",
    "\n",
    "    \n",
    "obj = C()\n",
    "print( obj.f(1,3) )\n",
    "print( obj.g() )"
   ]
  },
  {
   "cell_type": "markdown",
   "metadata": {},
   "source": [
    "# CLass method "
   ]
  },
  {
   "cell_type": "code",
   "execution_count": 38,
   "metadata": {},
   "outputs": [
    {
     "name": "stdout",
     "output_type": "stream",
     "text": [
      "Hello youssif\n",
      "the users number is : 1\n"
     ]
    }
   ],
   "source": [
    "class Member:\n",
    "    users_numbers = 0\n",
    "    def __init__(self,name) :\n",
    "        self.name = name\n",
    "        Member.users_numbers += 1\n",
    "        \n",
    "    \n",
    "    def show_name(self): #* instance method \n",
    "        return 'Hello '+ self.name\n",
    "    \n",
    "    \n",
    "    #* it takes Cls not self to point to Flag it as calss method not instance method \n",
    "    #* it does not require creation  of a class  instance to use it \n",
    "    #* we use it whe we need to  do some thing with the class it self not with the instance \n",
    "    #* you could use a class method to keep track of the number of objects that have been created, or to provide a factory method for creating new objects.\n",
    "    @classmethod\n",
    "    def show_number(cls): \n",
    "      print(f'the users number is : {cls.users_numbers}')    \n",
    "       \n",
    "mem1 = Member('youssif')\n",
    "print(mem1.show_name())\n",
    "\n",
    "Member.show_number()\n"
   ]
  },
  {
   "cell_type": "markdown",
   "metadata": {},
   "source": [
    "# Static Method"
   ]
  },
  {
   "cell_type": "code",
   "execution_count": 39,
   "metadata": {},
   "outputs": [
    {
     "name": "stdout",
     "output_type": "stream",
     "text": [
      "hi i am static\n"
     ]
    }
   ],
   "source": [
    "class Member:\n",
    "    #* Static methods are often used for utility functions that do not need to access the state of an object.\n",
    "    #* it is bound to a class, not an object. can be called without creating an instance of the class\n",
    "    @staticmethod\n",
    "    def say_hi(): \n",
    "      print(f'hi i am static')    \n",
    "       \n",
    "\n",
    "\n",
    "Member.say_hi()\n"
   ]
  },
  {
   "cell_type": "markdown",
   "metadata": {},
   "source": [
    "# Magic Method\n",
    "\n"
   ]
  },
  {
   "cell_type": "code",
   "execution_count": 63,
   "metadata": {},
   "outputs": [
    {
     "name": "stdout",
     "output_type": "stream",
     "text": [
      "<__main__.A object at 0x000002D3726139D0>\n",
      "<class '__main__.A'>\n",
      "\n",
      " ********************\n",
      "<class 'str'>\n",
      "<class 'str'>\n",
      "['__add__', '__class__', '__contains__', '__delattr__', '__dir__', '__doc__', '__eq__', '__format__', '__ge__', '__getattribute__', '__getitem__', '__getnewargs__', '__getstate__', '__gt__', '__hash__', '__init__', '__init_subclass__', '__iter__', '__le__', '__len__', '__lt__', '__mod__', '__mul__', '__ne__', '__new__', '__reduce__', '__reduce_ex__', '__repr__', '__rmod__', '__rmul__', '__setattr__', '__sizeof__', '__str__', '__subclasshook__', 'capitalize', 'casefold', 'center', 'count', 'encode', 'endswith', 'expandtabs', 'find', 'format', 'format_map', 'index', 'isalnum', 'isalpha', 'isascii', 'isdecimal', 'isdigit', 'isidentifier', 'islower', 'isnumeric', 'isprintable', 'isspace', 'istitle', 'isupper', 'join', 'ljust', 'lower', 'lstrip', 'maketrans', 'partition', 'removeprefix', 'removesuffix', 'replace', 'rfind', 'rindex', 'rjust', 'rpartition', 'rsplit', 'rstrip', 'split', 'splitlines', 'startswith', 'strip', 'swapcase', 'title', 'translate', 'upper', 'zfill']\n",
      "\n",
      " ********************\n",
      "<class 'int'>\n",
      "<class 'int'>\n",
      "['__abs__', '__add__', '__and__', '__bool__', '__ceil__', '__class__', '__delattr__', '__dir__', '__divmod__', '__doc__', '__eq__', '__float__', '__floor__', '__floordiv__', '__format__', '__ge__', '__getattribute__', '__getnewargs__', '__getstate__', '__gt__', '__hash__', '__index__', '__init__', '__init_subclass__', '__int__', '__invert__', '__le__', '__lshift__', '__lt__', '__mod__', '__mul__', '__ne__', '__neg__', '__new__', '__or__', '__pos__', '__pow__', '__radd__', '__rand__', '__rdivmod__', '__reduce__', '__reduce_ex__', '__repr__', '__rfloordiv__', '__rlshift__', '__rmod__', '__rmul__', '__ror__', '__round__', '__rpow__', '__rrshift__', '__rshift__', '__rsub__', '__rtruediv__', '__rxor__', '__setattr__', '__sizeof__', '__str__', '__sub__', '__subclasshook__', '__truediv__', '__trunc__', '__xor__', 'as_integer_ratio', 'bit_count', 'bit_length', 'conjugate', 'denominator', 'from_bytes', 'imag', 'numerator', 'real', 'to_bytes']\n",
      "\n",
      " ********************\n",
      "['__abstractmethods__', '__annotations__', '__base__', '__bases__', '__basicsize__', '__call__', '__class__', '__delattr__', '__dict__', '__dictoffset__', '__dir__', '__doc__', '__eq__', '__flags__', '__format__', '__ge__', '__getattribute__', '__getstate__', '__gt__', '__hash__', '__init__', '__init_subclass__', '__instancecheck__', '__itemsize__', '__le__', '__lt__', '__module__', '__mro__', '__name__', '__ne__', '__new__', '__or__', '__prepare__', '__qualname__', '__reduce__', '__reduce_ex__', '__repr__', '__ror__', '__setattr__', '__sizeof__', '__str__', '__subclasscheck__', '__subclasses__', '__subclasshook__', '__text_signature__', '__weakrefoffset__', 'mro']\n"
     ]
    }
   ],
   "source": [
    "class A:\n",
    "    pass\n",
    "obj = A()\n",
    "print(obj) #* every thing in python is anobject\n",
    "print(obj.__class__) \n",
    "\n",
    "print('\\n','*'*20)\n",
    "str1 = 'youssif'\n",
    "print(type(str1))\n",
    "print(str1.__class__)\n",
    "print(dir(str))\n",
    "\n",
    "print('\\n','*'*20)\n",
    "num = 12\n",
    "print(type(num))\n",
    "print(num.__class__)\n",
    "print(dir(int))\n",
    "\n",
    "print('\\n','*'*20)\n",
    "print(dir(type))\n",
    "    "
   ]
  },
  {
   "cell_type": "markdown",
   "metadata": {},
   "source": [
    "# Inheritance and override"
   ]
  },
  {
   "cell_type": "code",
   "execution_count": 67,
   "metadata": {},
   "outputs": [
    {
     "name": "stdout",
     "output_type": "stream",
     "text": [
      "Satyam 102\n",
      "\n",
      "\n",
      "Mayank 103\n",
      "Emp class called\n"
     ]
    }
   ],
   "source": [
    "class Person(object):\n",
    "   def __init__(self, name, id):\n",
    "    self.name = name\n",
    "    self.id = id\n",
    "\n",
    "   def Display(self):\n",
    "    print(self.name, self.id)\n",
    "\n",
    "emp = Person(\"Satyam\", 102) # An Object of Person\n",
    "emp.Display()\n",
    "print('\\n')\n",
    "\n",
    "\n",
    "\n",
    "\n",
    "class Emp(Person):\n",
    "\n",
    " def Print(self):\n",
    "\t print(\"Emp class called\")\n",
    "\t\n",
    "Emp_details = Emp(\"Mayank\", 103)\n",
    "Emp_details.Display()\n",
    "Emp_details.Print()"
   ]
  },
  {
   "cell_type": "code",
   "execution_count": 17,
   "metadata": {},
   "outputs": [
    {
     "name": "stdout",
     "output_type": "stream",
     "text": [
      "I can eat\n",
      "My name is  powee\n"
     ]
    }
   ],
   "source": [
    "class Animal:\n",
    "    name = \"\"\n",
    "    \n",
    "    def eat(self):\n",
    "        print(\"I can eat\")\n",
    "\n",
    "\n",
    "class Dog(Animal):\n",
    "\n",
    "\n",
    "    def display(self):\n",
    "        print(\"My name is \", self.name)\n",
    " \n",
    "labrador = Dog()\n",
    "\n",
    "labrador.name = \"powee\"\n",
    "labrador.eat()\n",
    "\n",
    "labrador.display()"
   ]
  },
  {
   "cell_type": "code",
   "execution_count": 18,
   "metadata": {},
   "outputs": [
    {
     "name": "stdout",
     "output_type": "stream",
     "text": [
      "food from supeer class\n",
      "food from derived class\n",
      "eat from super class\n"
     ]
    }
   ],
   "source": [
    "class Food:\n",
    "    def __init__(self) -> None:\n",
    "        print(\"food from supeer class\")\n",
    "    def eat(self):\n",
    "        print('eat from super class')\n",
    "        \n",
    "class apple(Food):\n",
    "    def __init__(self) -> None:\n",
    "        print(\"food from derived class\")\n",
    "    \n",
    "        \n",
    "f  = Food()\n",
    "f2 = apple()\n",
    "f2.eat()"
   ]
  },
  {
   "cell_type": "markdown",
   "metadata": {},
   "source": [
    "** how to use attribute of super class in chield class"
   ]
  },
  {
   "cell_type": "code",
   "execution_count": 16,
   "metadata": {},
   "outputs": [
    {
     "name": "stdout",
     "output_type": "stream",
     "text": [
      "eat pizza from derived class\n"
     ]
    }
   ],
   "source": [
    "class Food:\n",
    "    def __init__(self,name) -> None:\n",
    "        self.name = name\n",
    "\n",
    "        \n",
    "class apple(Food):\n",
    "     def __init__(self, name) -> None: #* override\n",
    "         super().__init__(name) \n",
    "         print(f'eat {self.name} from derived class')\n",
    "    \n",
    "        \n",
    "#f  = Food('pizza')\n",
    "f2 = apple('pizza')\n"
   ]
  },
  {
   "cell_type": "code",
   "execution_count": 23,
   "metadata": {},
   "outputs": [
    {
     "name": "stdout",
     "output_type": "stream",
     "text": [
      "eat pizza from derived class , its price is 40\n"
     ]
    }
   ],
   "source": [
    "class Food:\n",
    "    def __init__(self,name,price) -> None:\n",
    "        self.name = name\n",
    "        self.price  = price\n",
    "\n",
    "        \n",
    "class apple(Food):\n",
    "     def __init__(self, name, price) -> None: #* override\n",
    "        super().__init__(name,price)\n",
    "        self.name = name\n",
    "        self.price  = price+20\n",
    "          \n",
    "        print(f'eat {self.name} from derived class , its price is {self.price}')\n",
    "    \n",
    "        \n",
    "#f  = Food('pizza')\n",
    "f2 = apple('pizza',20)"
   ]
  },
  {
   "cell_type": "markdown",
   "metadata": {},
   "source": [
    "# Overriding\n"
   ]
  },
  {
   "cell_type": "code",
   "execution_count": 25,
   "metadata": {},
   "outputs": [
    {
     "name": "stdout",
     "output_type": "stream",
     "text": [
      "I can eat\n",
      "********************\n",
      "I like to eat bones\n"
     ]
    }
   ],
   "source": [
    "class Animal:\n",
    "    name = \"\"\n",
    "    def eat(self):\n",
    "        print(\"I can eat\")\n",
    "\n",
    "class Dog(Animal):\n",
    "   pass\n",
    "\n",
    "labrador = Dog()\n",
    "labrador.eat()\n",
    "\n",
    "print('*'*20)\n",
    "\n",
    "class Animal:\n",
    "    name = \"\"\n",
    "    def eat(self):\n",
    "        print(\"I can eat\")\n",
    "\n",
    "class Dog(Animal):\n",
    "    def eat(self):\n",
    "        print(\"I like to eat bones\")\n",
    "\n",
    "\n",
    "labrador = Dog()\n",
    "labrador.eat()"
   ]
  },
  {
   "cell_type": "code",
   "execution_count": 26,
   "metadata": {},
   "outputs": [
    {
     "name": "stdout",
     "output_type": "stream",
     "text": [
      "I can eat\n",
      "I like to eat bones\n"
     ]
    }
   ],
   "source": [
    "class Animal:\n",
    "    name = \"\"\n",
    "    def eat(self):\n",
    "        print(\"I can eat\")\n",
    "\n",
    "\n",
    "class Dog(Animal):\n",
    "    def eat(self):\n",
    "        super().eat()\n",
    "        print(\"I like to eat bones\")\n",
    "\n",
    "labrador = Dog()\n",
    "labrador.eat()"
   ]
  },
  {
   "cell_type": "markdown",
   "metadata": {},
   "source": [
    "# Multiple Inheritance"
   ]
  },
  {
   "cell_type": "code",
   "execution_count": 27,
   "metadata": {},
   "outputs": [
    {
     "name": "stdout",
     "output_type": "stream",
     "text": [
      "Mammals can give direct birth.\n",
      "Winged animals can flap.\n"
     ]
    }
   ],
   "source": [
    "class Mammal:\n",
    "    def mammal_info(self):\n",
    "        print(\"Mammals can give direct birth.\")\n",
    "\n",
    "class WingedAnimal:\n",
    "    def winged_animal_info(self):\n",
    "        print(\"Winged animals can flap.\")\n",
    "\n",
    "class Bat(Mammal, WingedAnimal):\n",
    "    pass\n",
    "\n",
    "# create an object of Bat class\n",
    "b1 = Bat()\n",
    "\n",
    "b1.mammal_info()\n",
    "b1.winged_animal_info()"
   ]
  },
  {
   "cell_type": "markdown",
   "metadata": {},
   "source": [
    "# Multilevel Inheritance\n",
    "you can also derive a class from the derived class. This form of inheritance is known as multilevel inheritance."
   ]
  },
  {
   "attachments": {
    "python-multilevel-inheritance.png": {
     "image/png": "[encoded data removed]"
    }
   },
   "cell_type": "markdown",
   "metadata": {},
   "source": [
    "![python-multilevel-inheritance.png](attachment:python-multilevel-inheritance.png)"
   ]
  },
  {
   "cell_type": "code",
   "execution_count": 29,
   "metadata": {},
   "outputs": [
    {
     "name": "stdout",
     "output_type": "stream",
     "text": [
      "Super Class method called\n",
      "Derived class 1 method called\n",
      "Derived class 2 method called\n"
     ]
    }
   ],
   "source": [
    "class SuperClass:\n",
    "\n",
    "    def super_method(self):\n",
    "        print(\"Super Class method called\")\n",
    "\n",
    "class DerivedClass1(SuperClass):\n",
    "    def derived1_method(self):\n",
    "        print(\"Derived class 1 method called\")\n",
    "\n",
    "class DerivedClass2(DerivedClass1):\n",
    "\n",
    "    def derived2_method(self):\n",
    "        print(\"Derived class 2 method called\")\n",
    "\n",
    "d2 = DerivedClass2()\n",
    "\n",
    "d2.super_method()  \n",
    "\n",
    "d2.derived1_method()  \n",
    "\n",
    "d2.derived2_method()  \n"
   ]
  },
  {
   "cell_type": "markdown",
   "metadata": {},
   "source": [
    "# Method Resolution Order \n",
    "If two superclasses have the same method name and the derived class calls that method, Python uses the MRO to search for the right method to call. "
   ]
  },
  {
   "cell_type": "code",
   "execution_count": 32,
   "metadata": {},
   "outputs": [
    {
     "name": "stdout",
     "output_type": "stream",
     "text": [
      "Super Class 2 method called\n"
     ]
    }
   ],
   "source": [
    "class SuperClass1:\n",
    "    def info(self):\n",
    "        print(\"Super Class 1 method called\")\n",
    "\n",
    "class SuperClass2:\n",
    "    def info(self):\n",
    "        print(\"Super Class 2 method called\")\n",
    "\n",
    "class Derived(SuperClass2, SuperClass1):\n",
    "    pass\n",
    "\n",
    "d1 = Derived()\n",
    "d1.info()  \n"
   ]
  },
  {
   "cell_type": "markdown",
   "metadata": {},
   "source": [
    "# polymorphism"
   ]
  },
  {
   "cell_type": "code",
   "execution_count": 36,
   "metadata": {},
   "outputs": [
    {
     "name": "stdout",
     "output_type": "stream",
     "text": [
      "ab\n"
     ]
    }
   ],
   "source": [
    "s1 = \"a\"\n",
    "s2 = 'b'  \n",
    "print(s1+s2) #* we know that the + operatoruseto add one number to other one\n",
    "#* but here it used to marge two strings \n",
    "#* it is the polymorphism operator or method that can used for more than one process depended oben the case "
   ]
  },
  {
   "cell_type": "code",
   "execution_count": 37,
   "metadata": {},
   "outputs": [
    {
     "name": "stdout",
     "output_type": "stream",
     "text": [
      "5\n",
      "7\n"
     ]
    }
   ],
   "source": [
    "print(len([1,2,3,4,5]))\n",
    "print(len(\"youssif\"))\n"
   ]
  },
  {
   "cell_type": "markdown",
   "metadata": {},
   "source": [
    "# Encapsulation\n",
    "It describes the idea of wrapping data and the methods that work on data within one unit. \n",
    "This puts restrictions on accessing variables and methods directly and can prevent the accidental modification of data\n"
   ]
  },
  {
   "attachments": {
    "Encapsulation-in-Python.webp": {
     "image/webp": "[encoded data removed]"
    }
   },
   "cell_type": "markdown",
   "metadata": {},
   "source": [
    "![Encapsulation-in-Python.webp](attachment:Encapsulation-in-Python.webp)"
   ]
  },
  {
   "cell_type": "markdown",
   "metadata": {},
   "source": [
    "# public attribute"
   ]
  },
  {
   "cell_type": "code",
   "execution_count": 40,
   "metadata": {},
   "outputs": [
    {
     "name": "stdout",
     "output_type": "stream",
     "text": [
      "youssif\n",
      "Allam\n"
     ]
    }
   ],
   "source": [
    "class MEM:\n",
    "    def __init__(self,name) -> None:\n",
    "        self.name=name\n",
    "        \n",
    "obj = MEM('youssif')\n",
    "print(obj.name)\n",
    "obj.name = \"Allam\"\n",
    "print(obj.name)\n"
   ]
  },
  {
   "cell_type": "markdown",
   "metadata": {},
   "source": [
    "# Protected attributes "
   ]
  },
  {
   "cell_type": "code",
   "execution_count": null,
   "metadata": {},
   "outputs": [
    {
     "name": "stdout",
     "output_type": "stream",
     "text": [
      "10\n",
      "50\n"
     ]
    }
   ],
   "source": [
    "class Counter:\n",
    "    def __init__(self):\n",
    "        self.current = 10\n",
    "        \n",
    "    def value(self):\n",
    "        return self.current\n",
    "        \n",
    "obj  = Counter()\n",
    "print(obj.value())\n",
    "obj.current = 50\n",
    "print(obj.value())"
   ]
  },
  {
   "cell_type": "code",
   "execution_count": 44,
   "metadata": {},
   "outputs": [
    {
     "name": "stdout",
     "output_type": "stream",
     "text": [
      "1\n"
     ]
    }
   ],
   "source": [
    "class Counter:\n",
    "    def __init__(self):\n",
    "        self._current = 0\n",
    "\n",
    "    def increment(self):\n",
    "        self._current += 1\n",
    "\n",
    "    def value(self):\n",
    "        return self._current\n",
    "\n",
    "    def reset(self):\n",
    "        self._current = 0\n",
    "\n",
    "obj  = Counter()\n",
    "obj.increment()\n",
    "obj.value()\n",
    "print(obj._current) \n"
   ]
  },
  {
   "cell_type": "markdown",
   "metadata": {},
   "source": [
    "# Private attribute"
   ]
  },
  {
   "cell_type": "code",
   "execution_count": 47,
   "metadata": {},
   "outputs": [
    {
     "ename": "AttributeError",
     "evalue": "'Counter' object has no attribute '__current'",
     "output_type": "error",
     "traceback": [
      "\u001b[1;31m---------------------------------------------------------------------------\u001b[0m",
      "\u001b[1;31mAttributeError\u001b[0m                            Traceback (most recent call last)",
      "Cell \u001b[1;32mIn[47], line 8\u001b[0m\n\u001b[0;32m      3\u001b[0m         \u001b[39mself\u001b[39m\u001b[39m.\u001b[39m__current \u001b[39m=\u001b[39m \u001b[39m0\u001b[39m\n\u001b[0;32m      7\u001b[0m obj  \u001b[39m=\u001b[39m Counter()\n\u001b[1;32m----> 8\u001b[0m \u001b[39mprint\u001b[39m(obj\u001b[39m.\u001b[39;49m__current)  \u001b[39m#!Error\u001b[39;00m\n",
      "\u001b[1;31mAttributeError\u001b[0m: 'Counter' object has no attribute '__current'"
     ]
    }
   ],
   "source": [
    "class Counter:\n",
    "    def __init__(self):\n",
    "        self.__current = 0\n",
    "\n",
    "\n",
    "\n",
    "obj  = Counter()\n",
    "print(obj.__current)  #!Error"
   ]
  },
  {
   "cell_type": "code",
   "execution_count": 48,
   "metadata": {},
   "outputs": [
    {
     "name": "stdout",
     "output_type": "stream",
     "text": [
      "0\n"
     ]
    }
   ],
   "source": [
    "class Counter:\n",
    "    def __init__(self):\n",
    "        self.__current = 0\n",
    "\n",
    "\n",
    "\n",
    "obj  = Counter()\n",
    "print(obj._Counter__current)  "
   ]
  },
  {
   "cell_type": "markdown",
   "metadata": {},
   "source": [
    "# SETTER & GETER"
   ]
  },
  {
   "cell_type": "code",
   "execution_count": 6,
   "metadata": {},
   "outputs": [
    {
     "name": "stdout",
     "output_type": "stream",
     "text": [
      "0\n",
      "10\n"
     ]
    }
   ],
   "source": [
    "class Counter:\n",
    "    def __init__(self):\n",
    "        self.__current = 0\n",
    "    \n",
    "    def get_current(self):\n",
    "        return self.__current\n",
    "    \n",
    "    def set_current(self,val):\n",
    "        self.__current = val\n",
    "\n",
    "\n",
    "\n",
    "obj  = Counter()\n",
    "print(obj.get_current())  \n",
    "\n",
    "obj.set_current(10) \n",
    "\n",
    "print(obj.get_current()) "
   ]
  },
  {
   "cell_type": "code",
   "execution_count": 12,
   "metadata": {},
   "outputs": [
    {
     "name": "stdout",
     "output_type": "stream",
     "text": [
      "youssif\n",
      "21\n"
     ]
    }
   ],
   "source": [
    "class member1:\n",
    "    def __init__(self,name,age):\n",
    "        self.name = name\n",
    "        self.age = age\n",
    "\n",
    "    def say_hi(self):\n",
    "        print(f'hi {self.name}')\n",
    "    \n",
    "    def age_indays(self):\n",
    "        return self.age * 365\n",
    "\n",
    "\n",
    "\n",
    "obj1  = member1('youssif',21)\n",
    "print(obj1.name)\n",
    "print(obj1.age)"
   ]
  },
  {
   "cell_type": "code",
   "execution_count": 13,
   "metadata": {},
   "outputs": [
    {
     "name": "stdout",
     "output_type": "stream",
     "text": [
      "<bound method member1.age_indays of <__main__.member1 object at 0x000001CF839114D0>>\n"
     ]
    }
   ],
   "source": [
    "print(obj1.age_indays) #* call the function as attribute"
   ]
  },
  {
   "cell_type": "code",
   "execution_count": 16,
   "metadata": {},
   "outputs": [
    {
     "name": "stdout",
     "output_type": "stream",
     "text": [
      "7665\n"
     ]
    }
   ],
   "source": [
    "class member2:\n",
    "    def __init__(self,name,age):\n",
    "        self.name = name\n",
    "        self.age = age\n",
    "\n",
    "    def say_hi(self):\n",
    "        print(f'hi {self.name}')\n",
    "\n",
    "    @property\n",
    "    def age_indays(self):\n",
    "        return self.age * 365\n",
    "\n",
    "obj2 = member2('youssif',21)\n",
    "print(obj2.age_indays)"
   ]
  },
  {
   "cell_type": "code",
   "execution_count": 18,
   "metadata": {},
   "outputs": [
    {
     "ename": "TypeError",
     "evalue": "'int' object is not callable",
     "output_type": "error",
     "traceback": [
      "\u001b[1;31m---------------------------------------------------------------------------\u001b[0m",
      "\u001b[1;31mTypeError\u001b[0m                                 Traceback (most recent call last)",
      "Cell \u001b[1;32mIn[18], line 1\u001b[0m\n\u001b[1;32m----> 1\u001b[0m \u001b[39mprint\u001b[39m(obj2\u001b[39m.\u001b[39;49mage_indays()) \u001b[39m#* now you cantactwithit as function now it is property\u001b[39;00m\n",
      "\u001b[1;31mTypeError\u001b[0m: 'int' object is not callable"
     ]
    }
   ],
   "source": [
    "print(obj2.age_indays()) #* now you act with it as function cuz now it is property"
   ]
  },
  {
   "cell_type": "markdown",
   "metadata": {},
   "source": [
    "# Abstract Base Class\n",
    "The main goal of the abstract base class is to provide a standardized way to test whether an object adheres to a given specification. It can also prevent any attempt to instantiate a subclass that doesn’t override a particular method in the superclass. And finally, using an abstract class, a class can derive identity from another class without any object inheritance."
   ]
  },
  {
   "cell_type": "code",
   "execution_count": 24,
   "metadata": {},
   "outputs": [
    {
     "data": {
      "text/plain": [
       "'yes'"
      ]
     },
     "execution_count": 24,
     "metadata": {},
     "output_type": "execute_result"
    }
   ],
   "source": [
    "class programming :\n",
    "    def has_oop(self):\n",
    "        return 'yes'\n",
    "    \n",
    "class python(programming) :\n",
    "    def has_oop(self):\n",
    "        return 'yes'\n",
    "    \n",
    "class pascal(programming) :\n",
    "    def has_oop(self):\n",
    "        return 'no'\n",
    "    \n",
    "obj = programming()\n",
    "obj.has_oop()"
   ]
  },
  {
   "cell_type": "code",
   "execution_count": 23,
   "metadata": {},
   "outputs": [],
   "source": [
    "from  abc import ABCMeta , abstractmethod\n",
    "\n",
    "class programming1(metaclass=ABCMeta) :\n",
    "    @abstractmethod\n",
    "    def has_oop(self):\n",
    "        pass\n",
    "    \n",
    "class python(programming) :\n",
    "    def has_oop(self):\n",
    "        return 'yes'\n",
    "    \n",
    "class pascal(programming) :\n",
    "    def has_oop(self):\n",
    "        return 'no'"
   ]
  },
  {
   "cell_type": "code",
   "execution_count": 25,
   "metadata": {},
   "outputs": [
    {
     "ename": "NameError",
     "evalue": "name 'programming1' is not defined",
     "output_type": "error",
     "traceback": [
      "\u001b[1;31m---------------------------------------------------------------------------\u001b[0m",
      "\u001b[1;31mNameError\u001b[0m                                 Traceback (most recent call last)",
      "Cell \u001b[1;32mIn[25], line 1\u001b[0m\n\u001b[1;32m----> 1\u001b[0m obj \u001b[39m=\u001b[39m programming1()\n\u001b[0;32m      2\u001b[0m obj\u001b[39m.\u001b[39mhas_oop()\n",
      "\u001b[1;31mNameError\u001b[0m: name 'programming1' is not defined"
     ]
    }
   ],
   "source": [
    "obj = programming1()\n",
    "obj.has_oop() #! error cuz it is abstruct class"
   ]
  },
  {
   "cell_type": "code",
   "execution_count": 26,
   "metadata": {},
   "outputs": [
    {
     "data": {
      "text/plain": [
       "'yes'"
      ]
     },
     "execution_count": 26,
     "metadata": {},
     "output_type": "execute_result"
    }
   ],
   "source": [
    "obj = python()\n",
    "obj.has_oop()"
   ]
  }
 ],
 "metadata": {
  "kernelspec": {
   "display_name": "Python 3",
   "language": "python",
   "name": "python3"
  },
  "language_info": {
   "codemirror_mode": {
    "name": "ipython",
    "version": 3
   },
   "file_extension": ".py",
   "mimetype": "text/x-python",
   "name": "python",
   "nbconvert_exporter": "python",
   "pygments_lexer": "ipython3",
   "version": "3.11.4"
  },
  "orig_nbformat": 4
 },
 "nbformat": 4,
 "nbformat_minor": 2
}
